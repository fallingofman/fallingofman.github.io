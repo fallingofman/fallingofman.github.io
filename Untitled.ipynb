{
 "cells": [
  {
   "cell_type": "code",
   "execution_count": null,
   "id": "ba56e708-5ad4-4531-9154-93ca4149eb2d",
   "metadata": {},
   "outputs": [],
   "source": [
    "from instagrapi.types import Media"
   ]
  },
  {
   "cell_type": "code",
   "execution_count": null,
   "id": "9618f7bb-36f5-4540-9551-fcaf674fce2e",
   "metadata": {},
   "outputs": [],
   "source": [
    "from instagrapi import Client\n",
    "from InstagramMain import login\n",
    "\n",
    "cl = Client()\n",
    "login(cl)"
   ]
  },
  {
   "cell_type": "code",
   "execution_count": null,
   "id": "d03104d9-552a-4204-aa24-0eccfaa50001",
   "metadata": {},
   "outputs": [],
   "source": [
    "user_ids = {}"
   ]
  },
  {
   "cell_type": "code",
   "execution_count": null,
   "id": "6666b889-7995-4ea2-838b-dad9e68583ec",
   "metadata": {},
   "outputs": [],
   "source": [
    "user_ids[\"oppyolly\"] = cl.user_id_from_username(\"oppyolly\")"
   ]
  },
  {
   "cell_type": "code",
   "execution_count": null,
   "id": "d68b7c42-7e7b-4622-8376-b5492c05f638",
   "metadata": {},
   "outputs": [],
   "source": [
    "medias = cl.user_medias(user_ids[\"oppyolly\"], 5)"
   ]
  },
  {
   "cell_type": "code",
   "execution_count": null,
   "id": "66b22b93-4c80-428f-aea6-56f649ede981",
   "metadata": {},
   "outputs": [],
   "source": [
    "type(medias[0])"
   ]
  },
  {
   "cell_type": "code",
   "execution_count": null,
   "id": "3f0ada65-c587-4e5a-b638-dd48601ceb1b",
   "metadata": {},
   "outputs": [],
   "source": [
    "medias[0].caption_text"
   ]
  },
  {
   "cell_type": "code",
   "execution_count": null,
   "id": "c814be6a-5247-4a0c-a3af-7939052a2d73",
   "metadata": {},
   "outputs": [],
   "source": [
    "from urllib.request import urlretrieve"
   ]
  },
  {
   "cell_type": "code",
   "execution_count": null,
   "id": "edd0dd17-e100-4329-8d07-090db180d8c3",
   "metadata": {},
   "outputs": [],
   "source": [
    "import yaml\n",
    "import os\n",
    "from instagrapi.types import Media\n",
    "from urllib.request import urlretrieve\n",
    "\n",
    "MEDIA_LIST_YAML_PATH = \"media_list.yaml\"\n",
    "\n",
    "class VideoInfo:\n",
    "\n",
    "    def __init__(\n",
    "        self,\n",
    "        video_file_name,\n",
    "        content_id,\n",
    "        caption_text,\n",
    "        like_count,\n",
    "    ):\n",
    "        self.video_file_name = video_file_name\n",
    "        self.content_id = content_id\n",
    "        self.caption_text = caption_text\n",
    "        self.like_count = like_count\n",
    "\n",
    "    @classmethod\n",
    "    def from_media(cls, ig_media:Media, download=True, download_dir:str=\"./videos\"):\n",
    "        url = ig_media.video_url\n",
    "        if url is None:\n",
    "            print(\"cannot put non reel media in VideoInfo\")\n",
    "            return None\n",
    "\n",
    "        content_id = ig_media.id\n",
    "        video_file_name = f\"{content_id}.mp4\"\n",
    "        caption_text = ig_media.caption_text\n",
    "\n",
    "        # download video\n",
    "        if download:\n",
    "            video_path = os.path.join(download_dir, video_file_name)\n",
    "            urlretrieve(str(url), video_path)\n",
    "\n",
    "        video_info = VideoInfo(\n",
    "            video_file_name=video_file_name,\n",
    "            content_id=content_id,\n",
    "            caption_text=caption_text,\n",
    "            like_count=ig_media.like_count\n",
    "        )\n",
    "\n",
    "        return video_info\n",
    "    \n",
    "    def encode(self):\n",
    "        return {\n",
    "            \"video_file_name\": self.video_file_name,\n",
    "            \"content_id\": self.content_id,\n",
    "            \"caption_text\": self.caption_text,\n",
    "            \"like_count\": self.like_count\n",
    "        }\n",
    "    \n",
    "    @classmethod\n",
    "    def decode(cls, data):\n",
    "        return VideoInfo(\n",
    "            video_file_name=data[\"video_file_name\"],\n",
    "            content_id=data[\"content_id\"],\n",
    "            caption_text=data[\"caption_text\"],\n",
    "            like_count=data[\"like_count\"]\n",
    "        )\n",
    "\n",
    "class MediaStore:\n",
    "\n",
    "    def __init__(self, media_store_path:str):\n",
    "        self.media_store_path = media_store_path\n",
    "        if not os.path.exists(media_store_path):\n",
    "            os.makedirs(media_store_path)\n",
    "        # if the yaml file doesn't exist, create it\n",
    "        if not os.path.exists(self._get_media_list_path()):\n",
    "            with open(self._get_media_list_path(), 'w') as f:\n",
    "                yaml.dump({}, f)\n",
    "\n",
    "    def save_media(self, ig_media:Media):\n",
    "        # add step to distinguish content type here\n",
    "        video_info = VideoInfo.from_media(ig_media, download=True, download_dir=self.media_store_path)\n",
    "        if video_info is None:\n",
    "            print(\"cannot save media\")\n",
    "            return\n",
    "\n",
    "        media_list = self._load_media_list()\n",
    "        media_list[video_info.content_id] = video_info.encode()\n",
    "        self._save_media_list(media_list)\n",
    "\n",
    "    def save_medias(self, medias:list[Media]):\n",
    "        for media in medias:\n",
    "            self.save_media(media)\n",
    "\n",
    "    def delete_media_by_content_id(self, content_id:str):\n",
    "        media_list = self._load_media_list()\n",
    "        del media_list[content_id]\n",
    "        self._save_media_list(media_list)\n",
    "\n",
    "    def delete_media(self, video_info:VideoInfo):\n",
    "        self.delete_media_by_content_id(video_info.content_id)\n",
    "\n",
    "    def get_all_media(self):\n",
    "        media_list = self._load_media_list()\n",
    "        return {content_id: VideoInfo.decode(data) for content_id, data in media_list.items()}\n",
    "    \n",
    "    def get_one_media(self):\n",
    "        media_list = self._load_media_list()\n",
    "        if len(media_list) == 0:\n",
    "            return None\n",
    "        content_id, data = media_list.popitem()\n",
    "        return VideoInfo.decode(data)\n",
    "\n",
    "    def _get_media_list_path(self):\n",
    "        return os.path.join(self.media_store_path, MEDIA_LIST_YAML_PATH)\n",
    "    \n",
    "    def _load_media_list(self):\n",
    "        with open(self._get_media_list_path(), 'r') as f:\n",
    "            return yaml.load(f, Loader=yaml.FullLoader)\n",
    "        \n",
    "    def _save_media_list(self, media_list):\n",
    "        with open(self._get_media_list_path(), 'w') as f:\n",
    "            yaml.dump(media_list, f)\n",
    "        "
   ]
  },
  {
   "cell_type": "code",
   "execution_count": null,
   "id": "4d0bb72a-69bd-47b7-9221-22364c359fb8",
   "metadata": {},
   "outputs": [],
   "source": [
    "ms = MediaStore(\"./videos\")"
   ]
  },
  {
   "cell_type": "code",
   "execution_count": null,
   "id": "ce03ea97-0ab7-4ff4-b888-6bcf292ba8e4",
   "metadata": {},
   "outputs": [],
   "source": [
    "ms.save_medias(medias)"
   ]
  },
  {
   "cell_type": "code",
   "execution_count": null,
   "id": "2ae585d2-9aab-4d42-93c5-b50cf773e7ce",
   "metadata": {},
   "outputs": [],
   "source": [
    "ms.get_all_media()"
   ]
  },
  {
   "cell_type": "code",
   "execution_count": null,
   "id": "635984e1-331b-4a1e-8c16-af02185dcf3e",
   "metadata": {},
   "outputs": [],
   "source": [
    "v = ms.get_one_media()\n",
    "v.video_file_name"
   ]
  },
  {
   "cell_type": "code",
   "execution_count": null,
   "id": "35a5b28b-31ce-4b8c-850d-32fc6348bdc8",
   "metadata": {},
   "outputs": [],
   "source": [
    "ms._load_media_list()"
   ]
  },
  {
   "cell_type": "code",
   "execution_count": null,
   "id": "26bc1085-63e9-4319-8adb-e9b4fcef94ff",
   "metadata": {},
   "outputs": [],
   "source": [
    "ms.delete_media(v)"
   ]
  },
  {
   "cell_type": "code",
   "execution_count": null,
   "id": "64c7a0b8-a98d-43a5-84c5-192af0d36128",
   "metadata": {},
   "outputs": [],
   "source": [
    "ms.get_all_media()"
   ]
  },
  {
   "cell_type": "code",
   "execution_count": null,
   "id": "5998a078-1414-4561-a17d-3be9f34b6f4b",
   "metadata": {},
   "outputs": [],
   "source": [
    "cl.user_id_from_username(\"gabriela90.nyc\")"
   ]
  },
  {
   "cell_type": "code",
   "execution_count": null,
   "id": "f6078df5-0c5c-4864-96ee-ba4730468f24",
   "metadata": {},
   "outputs": [],
   "source": [
    "meds = cl.user_medias('62975938128', 20)"
   ]
  },
  {
   "cell_type": "code",
   "execution_count": null,
   "id": "074f6681-4f47-4f69-a5c7-14e25103fd67",
   "metadata": {},
   "outputs": [],
   "source": [
    "[v.]"
   ]
  },
  {
   "cell_type": "code",
   "execution_count": null,
   "id": "db4e442e-91c8-43db-a7aa-799e92b54b40",
   "metadata": {},
   "outputs": [],
   "source": []
  }
 ],
 "metadata": {
  "kernelspec": {
   "display_name": "Python 3 (ipykernel)",
   "language": "python",
   "name": "python3"
  },
  "language_info": {
   "codemirror_mode": {
    "name": "ipython",
    "version": 3
   },
   "file_extension": ".py",
   "mimetype": "text/x-python",
   "name": "python",
   "nbconvert_exporter": "python",
   "pygments_lexer": "ipython3",
   "version": "3.9.21"
  }
 },
 "nbformat": 4,
 "nbformat_minor": 5
}
